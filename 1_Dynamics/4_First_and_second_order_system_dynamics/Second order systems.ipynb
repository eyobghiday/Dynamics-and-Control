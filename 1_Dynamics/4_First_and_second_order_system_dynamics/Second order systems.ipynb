{
 "cells": [
  {
   "cell_type": "code",
   "execution_count": 1,
   "metadata": {},
   "outputs": [],
   "source": [
    "import sympy\n",
    "import matplotlib.pyplot as plt\n",
    "import numpy\n",
    "sympy.init_printing()\n",
    "%matplotlib inline"
   ]
  },
  {
   "cell_type": "code",
   "execution_count": 2,
   "metadata": {},
   "outputs": [],
   "source": [
    "tau, zeta, t, w, K = sympy.symbols('tau, zeta, t, w, K', real=True, positive=True)\n",
    "s = sympy.Symbol('s')"
   ]
  },
  {
   "cell_type": "code",
   "execution_count": 3,
   "metadata": {},
   "outputs": [],
   "source": [
    "def L(f):\n",
    "    return sympy.laplace_transform(f, t, s, noconds=True)\n",
    "def invL(F):\n",
    "    return sympy.inverse_laplace_transform(F, s, t)"
   ]
  },
  {
   "cell_type": "markdown",
   "metadata": {},
   "source": [
    "This is the standard form for the second order system transfer function"
   ]
  },
  {
   "cell_type": "code",
   "execution_count": 4,
   "metadata": {},
   "outputs": [
    {
     "data": {
      "image/png": "[encoded data removed]",
      "text/latex": [
       "$$\\frac{K}{s^{2} \\tau^{2} + 2 s \\tau \\zeta + 1}$$"
      ],
      "text/plain": [
       "         K         \n",
       "───────────────────\n",
       " 2  2              \n",
       "s ⋅τ  + 2⋅s⋅τ⋅ζ + 1"
      ]
     },
     "execution_count": 4,
     "metadata": {},
     "output_type": "execute_result"
    }
   ],
   "source": [
    "G = K/(tau**2*s**2 + 2*tau*zeta*s + 1)\n",
    "G"
   ]
  },
  {
   "cell_type": "markdown",
   "metadata": {},
   "source": [
    "In recent versions of Sympy, we can solve for the step response directly."
   ]
  },
  {
   "cell_type": "code",
   "execution_count": 5,
   "metadata": {},
   "outputs": [
    {
     "data": {
      "text/plain": [
       "'1.1.1'"
      ]
     },
     "execution_count": 5,
     "metadata": {},
     "output_type": "execute_result"
    }
   ],
   "source": [
    "sympy.__version__"
   ]
  },
  {
   "cell_type": "code",
   "execution_count": 6,
   "metadata": {},
   "outputs": [
    {
     "data": {
      "image/png": "[encoded data removed]",
      "text/latex": [
       "$$\\frac{K e^{- \\frac{t \\zeta}{\\tau}}}{2 \\left(- \\zeta + \\sqrt{\\zeta - 1} \\sqrt{\\zeta + 1}\\right)^{2} \\left(\\zeta + \\sqrt{\\zeta - 1} \\sqrt{\\zeta + 1}\\right)^{2} \\sqrt{\\zeta^{2} - 1}} \\left(- i \\zeta e^{\\frac{t}{\\tau} \\sqrt{\\zeta + 1} \\cos{\\left (\\frac{1}{2} \\operatorname{atan_{2}}{\\left (0,\\zeta - 1 \\right )} \\right )} \\sqrt{\\left|{\\zeta - 1}\\right|}} \\sin{\\left (\\frac{t}{\\tau} \\sqrt{\\zeta + 1} \\sin{\\left (\\frac{1}{2} \\operatorname{atan_{2}}{\\left (0,\\zeta - 1 \\right )} \\right )} \\sqrt{\\left|{\\zeta - 1}\\right|} \\right )} - \\zeta e^{\\frac{t}{\\tau} \\sqrt{\\zeta + 1} \\cos{\\left (\\frac{1}{2} \\operatorname{atan_{2}}{\\left (0,\\zeta - 1 \\right )} \\right )} \\sqrt{\\left|{\\zeta - 1}\\right|}} \\cos{\\left (\\frac{t}{\\tau} \\sqrt{\\zeta + 1} \\sin{\\left (\\frac{1}{2} \\operatorname{atan_{2}}{\\left (0,\\zeta - 1 \\right )} \\right )} \\sqrt{\\left|{\\zeta - 1}\\right|} \\right )} - i \\zeta e^{- \\frac{t}{\\tau} \\sqrt{\\zeta + 1} \\cos{\\left (\\frac{1}{2} \\operatorname{atan_{2}}{\\left (0,\\zeta - 1 \\right )} \\right )} \\sqrt{\\left|{\\zeta - 1}\\right|}} \\sin{\\left (\\frac{t}{\\tau} \\sqrt{\\zeta + 1} \\sin{\\left (\\frac{1}{2} \\operatorname{atan_{2}}{\\left (0,\\zeta - 1 \\right )} \\right )} \\sqrt{\\left|{\\zeta - 1}\\right|} \\right )} + \\zeta e^{- \\frac{t}{\\tau} \\sqrt{\\zeta + 1} \\cos{\\left (\\frac{1}{2} \\operatorname{atan_{2}}{\\left (0,\\zeta - 1 \\right )} \\right )} \\sqrt{\\left|{\\zeta - 1}\\right|}} \\cos{\\left (\\frac{t}{\\tau} \\sqrt{\\zeta + 1} \\sin{\\left (\\frac{1}{2} \\operatorname{atan_{2}}{\\left (0,\\zeta - 1 \\right )} \\right )} \\sqrt{\\left|{\\zeta - 1}\\right|} \\right )} - i \\sqrt{\\zeta - 1} \\sqrt{\\zeta + 1} e^{\\frac{t}{\\tau} \\sqrt{\\zeta + 1} \\cos{\\left (\\frac{1}{2} \\operatorname{atan_{2}}{\\left (0,\\zeta - 1 \\right )} \\right )} \\sqrt{\\left|{\\zeta - 1}\\right|}} \\sin{\\left (\\frac{t}{\\tau} \\sqrt{\\zeta + 1} \\sin{\\left (\\frac{1}{2} \\operatorname{atan_{2}}{\\left (0,\\zeta - 1 \\right )} \\right )} \\sqrt{\\left|{\\zeta - 1}\\right|} \\right )} + i \\sqrt{\\zeta - 1} \\sqrt{\\zeta + 1} e^{- \\frac{t}{\\tau} \\sqrt{\\zeta + 1} \\cos{\\left (\\frac{1}{2} \\operatorname{atan_{2}}{\\left (0,\\zeta - 1 \\right )} \\right )} \\sqrt{\\left|{\\zeta - 1}\\right|}} \\sin{\\left (\\frac{t}{\\tau} \\sqrt{\\zeta + 1} \\sin{\\left (\\frac{1}{2} \\operatorname{atan_{2}}{\\left (0,\\zeta - 1 \\right )} \\right )} \\sqrt{\\left|{\\zeta - 1}\\right|} \\right )} + 2 \\sqrt{\\zeta^{2} - 1} e^{\\frac{t \\zeta}{\\tau}} - \\sqrt{\\zeta^{2} - 1} e^{\\frac{t}{\\tau} \\sqrt{\\zeta + 1} \\cos{\\left (\\frac{1}{2} \\operatorname{atan_{2}}{\\left (0,\\zeta - 1 \\right )} \\right )} \\sqrt{\\left|{\\zeta - 1}\\right|}} \\cos{\\left (\\frac{t}{\\tau} \\sqrt{\\zeta + 1} \\sin{\\left (\\frac{1}{2} \\operatorname{atan_{2}}{\\left (0,\\zeta - 1 \\right )} \\right )} \\sqrt{\\left|{\\zeta - 1}\\right|} \\right )} - \\sqrt{\\zeta^{2} - 1} e^{- \\frac{t}{\\tau} \\sqrt{\\zeta + 1} \\cos{\\left (\\frac{1}{2} \\operatorname{atan_{2}}{\\left (0,\\zeta - 1 \\right )} \\right )} \\sqrt{\\left|{\\zeta - 1}\\right|}} \\cos{\\left (\\frac{t}{\\tau} \\sqrt{\\zeta + 1} \\sin{\\left (\\frac{1}{2} \\operatorname{atan_{2}}{\\left (0,\\zeta - 1 \\right )} \\right )} \\sqrt{\\left|{\\zeta - 1}\\right|} \\right )}\\right)$$"
      ],
      "text/plain": [
       "  ⎛           _______    ⎛atan2(0, ζ - 1)⎞   _________                        \n",
       "  ⎜       t⋅╲╱ ζ + 1 ⋅cos⎜───────────────⎟⋅╲╱ │ζ - 1│                         \n",
       "  ⎜                      ⎝       2       ⎠                ⎛    _______    ⎛ata\n",
       "  ⎜       ────────────────────────────────────────────    ⎜t⋅╲╱ ζ + 1 ⋅sin⎜───\n",
       "  ⎜                            τ                          ⎜               ⎝   \n",
       "K⋅⎜- ⅈ⋅ζ⋅ℯ                                            ⋅sin⎜───────────────────\n",
       "  ⎝                                                       ⎝                   \n",
       "──────────────────────────────────────────────────────────────────────────────\n",
       "                                                                              \n",
       "                                                                              \n",
       "                                                                              \n",
       "\n",
       "                                    _______    ⎛atan2(0, ζ - 1)⎞   _________  \n",
       "                                t⋅╲╱ ζ + 1 ⋅cos⎜───────────────⎟⋅╲╱ │ζ - 1│   \n",
       "n2(0, ζ - 1)⎞   _________⎞                     ⎝       2       ⎠              \n",
       "────────────⎟⋅╲╱ │ζ - 1│ ⎟      ────────────────────────────────────────────  \n",
       "    2       ⎠            ⎟                           τ                        \n",
       "─────────────────────────⎟ - ζ⋅ℯ                                            ⋅c\n",
       "  τ                      ⎠                                                    \n",
       "──────────────────────────────────────────────────────────────────────────────\n",
       "                                                                              \n",
       "                                                                              \n",
       "                                                                              \n",
       "\n",
       "                                                             _______    ⎛atan2\n",
       "                                                        -t⋅╲╱ ζ + 1 ⋅cos⎜─────\n",
       "  ⎛    _______    ⎛atan2(0, ζ - 1)⎞   _________⎞                        ⎝     \n",
       "  ⎜t⋅╲╱ ζ + 1 ⋅sin⎜───────────────⎟⋅╲╱ │ζ - 1│ ⎟        ──────────────────────\n",
       "  ⎜               ⎝       2       ⎠            ⎟                              \n",
       "os⎜────────────────────────────────────────────⎟ - ⅈ⋅ζ⋅ℯ                      \n",
       "  ⎝                     τ                      ⎠                              \n",
       "──────────────────────────────────────────────────────────────────────────────\n",
       "                                                                              \n",
       "                                                                              \n",
       "                                                                              \n",
       "\n",
       "(0, ζ - 1)⎞   _________                                                       \n",
       "──────────⎟⋅╲╱ │ζ - 1│                                                        \n",
       "  2       ⎠                 ⎛    _______    ⎛atan2(0, ζ - 1)⎞   _________⎞    \n",
       "────────────────────────    ⎜t⋅╲╱ ζ + 1 ⋅sin⎜───────────────⎟⋅╲╱ │ζ - 1│ ⎟    \n",
       "τ                           ⎜               ⎝       2       ⎠            ⎟    \n",
       "                        ⋅sin⎜────────────────────────────────────────────⎟ + ζ\n",
       "                            ⎝                     τ                      ⎠    \n",
       "──────────────────────────────────────────────────────────────────────────────\n",
       "                                                                              \n",
       "                                                                              \n",
       "                                                                              \n",
       "\n",
       "       _______    ⎛atan2(0, ζ - 1)⎞   _________                               \n",
       "  -t⋅╲╱ ζ + 1 ⋅cos⎜───────────────⎟⋅╲╱ │ζ - 1│                                \n",
       "                  ⎝       2       ⎠                 ⎛    _______    ⎛atan2(0, \n",
       "  ──────────────────────────────────────────────    ⎜t⋅╲╱ ζ + 1 ⋅sin⎜─────────\n",
       "                        τ                           ⎜               ⎝       2 \n",
       "⋅ℯ                                              ⋅cos⎜─────────────────────────\n",
       "                                                    ⎝                     τ   \n",
       "──────────────────────────────────────────────────────────────────────────────\n",
       "                                                                              \n",
       "                                                                              \n",
       "                                                                              \n",
       "\n",
       "                                                  _______    ⎛atan2(0, ζ - 1)⎞\n",
       "                                              t⋅╲╱ ζ + 1 ⋅cos⎜───────────────⎟\n",
       "ζ - 1)⎞   _________⎞                                         ⎝       2       ⎠\n",
       "──────⎟⋅╲╱ │ζ - 1│ ⎟                          ────────────────────────────────\n",
       "      ⎠            ⎟       _______   _______                       τ          \n",
       "───────────────────⎟ - ⅈ⋅╲╱ ζ - 1 ⋅╲╱ ζ + 1 ⋅ℯ                                \n",
       "                   ⎠                                                          \n",
       "──────────────────────────────────────────────────────────────────────────────\n",
       "                                                        2                     \n",
       "                              ⎛       _______   _______⎞  ⎛      _______   ___\n",
       "                            2⋅⎝-ζ + ╲╱ ζ - 1 ⋅╲╱ ζ + 1 ⎠ ⋅⎝ζ + ╲╱ ζ - 1 ⋅╲╱ ζ \n",
       "\n",
       "   _________                                                                  \n",
       "⋅╲╱ │ζ - 1│                                                                   \n",
       "                ⎛    _______    ⎛atan2(0, ζ - 1)⎞   _________⎞                \n",
       "────────────    ⎜t⋅╲╱ ζ + 1 ⋅sin⎜───────────────⎟⋅╲╱ │ζ - 1│ ⎟                \n",
       "                ⎜               ⎝       2       ⎠            ⎟       _______  \n",
       "            ⋅sin⎜────────────────────────────────────────────⎟ + ⅈ⋅╲╱ ζ - 1 ⋅╲\n",
       "                ⎝                     τ                      ⎠                \n",
       "──────────────────────────────────────────────────────────────────────────────\n",
       "     2    ________                                                            \n",
       "____⎞    ╱  2                                                                 \n",
       "+ 1 ⎠ ⋅╲╱  ζ  - 1                                                             \n",
       "\n",
       "               _______    ⎛atan2(0, ζ - 1)⎞   _________                       \n",
       "          -t⋅╲╱ ζ + 1 ⋅cos⎜───────────────⎟⋅╲╱ │ζ - 1│                        \n",
       "                          ⎝       2       ⎠                 ⎛    _______    ⎛a\n",
       "          ──────────────────────────────────────────────    ⎜t⋅╲╱ ζ + 1 ⋅sin⎜─\n",
       " _______                        τ                           ⎜               ⎝ \n",
       "╱ ζ + 1 ⋅ℯ                                              ⋅sin⎜─────────────────\n",
       "                                                            ⎝                 \n",
       "──────────────────────────────────────────────────────────────────────────────\n",
       "                                                                              \n",
       "                                                                              \n",
       "                                                                              \n",
       "\n",
       "                                                                     _______  \n",
       "                                                                 t⋅╲╱ ζ + 1 ⋅c\n",
       "tan2(0, ζ - 1)⎞   _________⎞                  t⋅ζ                             \n",
       "──────────────⎟⋅╲╱ │ζ - 1│ ⎟        ________  ───      ________  ─────────────\n",
       "      2       ⎠            ⎟       ╱  2        τ      ╱  2                    \n",
       "───────────────────────────⎟ + 2⋅╲╱  ζ  - 1 ⋅ℯ    - ╲╱  ζ  - 1 ⋅ℯ             \n",
       "    τ                      ⎠                                                  \n",
       "──────────────────────────────────────────────────────────────────────────────\n",
       "                                                                              \n",
       "                                                                              \n",
       "                                                                              \n",
       "\n",
       "  ⎛atan2(0, ζ - 1)⎞   _________                                               \n",
       "os⎜───────────────⎟⋅╲╱ │ζ - 1│                                                \n",
       "  ⎝       2       ⎠                ⎛    _______    ⎛atan2(0, ζ - 1)⎞   _______\n",
       "───────────────────────────────    ⎜t⋅╲╱ ζ + 1 ⋅sin⎜───────────────⎟⋅╲╱ │ζ - 1\n",
       "        τ                          ⎜               ⎝       2       ⎠          \n",
       "                               ⋅cos⎜──────────────────────────────────────────\n",
       "                                   ⎝                     τ                    \n",
       "──────────────────────────────────────────────────────────────────────────────\n",
       "                                                                              \n",
       "                                                                              \n",
       "                                                                              \n",
       "\n",
       "                        _______    ⎛atan2(0, ζ - 1)⎞   _________              \n",
       "                   -t⋅╲╱ ζ + 1 ⋅cos⎜───────────────⎟⋅╲╱ │ζ - 1│               \n",
       "__⎞                                ⎝       2       ⎠                 ⎛    ____\n",
       "│ ⎟      ________  ──────────────────────────────────────────────    ⎜t⋅╲╱ ζ +\n",
       "  ⎟     ╱  2                             τ                           ⎜        \n",
       "──⎟ - ╲╱  ζ  - 1 ⋅ℯ                                              ⋅cos⎜────────\n",
       "  ⎠                                                                  ⎝        \n",
       "──────────────────────────────────────────────────────────────────────────────\n",
       "                                                                              \n",
       "                                                                              \n",
       "                                                                              \n",
       "\n",
       "                                     ⎞       \n",
       "                                     ⎟       \n",
       "___    ⎛atan2(0, ζ - 1)⎞   _________⎞⎟  -t⋅ζ \n",
       " 1 ⋅sin⎜───────────────⎟⋅╲╱ │ζ - 1│ ⎟⎟  ─────\n",
       "       ⎝       2       ⎠            ⎟⎟    τ  \n",
       "────────────────────────────────────⎟⎟⋅ℯ     \n",
       "             τ                      ⎠⎠       \n",
       "─────────────────────────────────────────────\n",
       "                                             \n",
       "                                             \n",
       "                                             "
      ]
     },
     "execution_count": 6,
     "metadata": {},
     "output_type": "execute_result"
    }
   ],
   "source": [
    "invL(G/s)"
   ]
  },
  {
   "cell_type": "markdown",
   "metadata": {},
   "source": [
    "That's a really hairy expression, so let's try to simplify."
   ]
  },
  {
   "cell_type": "markdown",
   "metadata": {},
   "source": [
    "The characteristic equation is the denominator of the transfer function"
   ]
  },
  {
   "cell_type": "code",
   "execution_count": 7,
   "metadata": {},
   "outputs": [
    {
     "data": {
      "image/png": "[encoded data removed]",
      "text/latex": [
       "$$s^{2} \\tau^{2} + 2 s \\tau \\zeta + 1 = 0$$"
      ],
      "text/plain": [
       " 2  2                  \n",
       "s ⋅τ  + 2⋅s⋅τ⋅ζ + 1 = 0"
      ]
     },
     "execution_count": 7,
     "metadata": {},
     "output_type": "execute_result"
    }
   ],
   "source": [
    "ce = sympy.Eq(sympy.denom(G), 0)\n",
    "ce"
   ]
  },
  {
   "cell_type": "code",
   "execution_count": 8,
   "metadata": {},
   "outputs": [
    {
     "data": {
      "image/png": "[encoded data removed]",
      "text/latex": [
       "$$\\left \\{ \\frac{1}{\\tau} \\left(- \\zeta - \\sqrt{\\zeta - 1} \\sqrt{\\zeta + 1}\\right) : 1, \\quad \\frac{1}{\\tau} \\left(- \\zeta + \\sqrt{\\zeta - 1} \\sqrt{\\zeta + 1}\\right) : 1\\right \\}$$"
      ],
      "text/plain": [
       "⎧       _______   _______            _______   _______   ⎫\n",
       "⎪-ζ - ╲╱ ζ - 1 ⋅╲╱ ζ + 1      -ζ + ╲╱ ζ - 1 ⋅╲╱ ζ + 1    ⎪\n",
       "⎨────────────────────────: 1, ────────────────────────: 1⎬\n",
       "⎪           τ                            τ               ⎪\n",
       "⎩                                                        ⎭"
      ]
     },
     "execution_count": 8,
     "metadata": {},
     "output_type": "execute_result"
    }
   ],
   "source": [
    "roots = sympy.roots(ce, s)\n",
    "roots"
   ]
  },
  {
   "cell_type": "markdown",
   "metadata": {},
   "source": [
    "The shape of the inverse Laplace depends on the nature of the roots, which depends on the value of $\\zeta$"
   ]
  },
  {
   "cell_type": "markdown",
   "metadata": {},
   "source": [
    "Overdamped: $\\zeta>1$. Two distinct real roots"
   ]
  },
  {
   "cell_type": "code",
   "execution_count": 9,
   "metadata": {},
   "outputs": [
    {
     "data": {
      "image/png": "[encoded data removed]",
      "text/latex": [
       "$$\\frac{\\sqrt{3} K}{24 \\tau} e^{- \\frac{7 t}{\\tau}} e^{\\frac{4 t}{\\tau} \\sqrt{3}} - \\frac{\\sqrt{3} K}{24 \\tau} e^{- \\frac{7 t}{\\tau}} e^{- \\frac{4 t}{\\tau} \\sqrt{3}}$$"
      ],
      "text/plain": [
       "      -7⋅t   4⋅√3⋅t         -7⋅t   -4⋅√3⋅t \n",
       "      ─────  ──────         ─────  ────────\n",
       "        τ      τ              τ       τ    \n",
       "√3⋅K⋅ℯ     ⋅ℯ         √3⋅K⋅ℯ     ⋅ℯ        \n",
       "─────────────────── - ─────────────────────\n",
       "        24⋅τ                   24⋅τ        "
      ]
     },
     "execution_count": 9,
     "metadata": {},
     "output_type": "execute_result"
    }
   ],
   "source": [
    "invL(G.subs({zeta: 7})).simplify().expand()"
   ]
  },
  {
   "cell_type": "markdown",
   "metadata": {},
   "source": [
    "Critically damped: $\\zeta=1$. Repeated roots."
   ]
  },
  {
   "cell_type": "code",
   "execution_count": 10,
   "metadata": {},
   "outputs": [
    {
     "data": {
      "image/png": "[encoded data removed]",
      "text/latex": [
       "$$\\frac{K t}{\\tau^{2}} e^{- \\frac{t}{\\tau}}$$"
      ],
      "text/plain": [
       "     -t \n",
       "     ───\n",
       "      τ \n",
       "K⋅t⋅ℯ   \n",
       "────────\n",
       "    2   \n",
       "   τ    "
      ]
     },
     "execution_count": 10,
     "metadata": {},
     "output_type": "execute_result"
    }
   ],
   "source": [
    "invL(G.subs({zeta: 1}))"
   ]
  },
  {
   "cell_type": "markdown",
   "metadata": {},
   "source": [
    "Underdamped: $0<\\zeta<1$: a complex conjugate pair of roots"
   ]
  },
  {
   "cell_type": "code",
   "execution_count": 11,
   "metadata": {},
   "outputs": [
    {
     "data": {
      "image/png": "[encoded data removed]",
      "text/latex": [
       "$$\\frac{1.40028008402801 K}{\\tau} e^{- \\frac{0.7 t}{\\tau}} \\sin{\\left (\\frac{0.714142842854285 t}{\\tau} \\right )}$$"
      ],
      "text/plain": [
       "                    -0.7⋅t                          \n",
       "                    ───────                         \n",
       "                       τ       ⎛0.714142842854285⋅t⎞\n",
       "1.40028008402801⋅K⋅ℯ       ⋅sin⎜───────────────────⎟\n",
       "                               ⎝         τ         ⎠\n",
       "────────────────────────────────────────────────────\n",
       "                         τ                          "
      ]
     },
     "execution_count": 11,
     "metadata": {},
     "output_type": "execute_result"
    }
   ],
   "source": [
    "r = invL(G.subs({zeta: 0.7}))\n",
    "r"
   ]
  },
  {
   "cell_type": "markdown",
   "metadata": {},
   "source": [
    "We can get prettier results if we use `Rational`s instead of `floats`"
   ]
  },
  {
   "cell_type": "code",
   "execution_count": 12,
   "metadata": {},
   "outputs": [
    {
     "data": {
      "image/png": "[encoded data removed]",
      "text/latex": [
       "$$\\frac{2 \\sqrt{3} K}{3 \\tau} e^{- \\frac{t}{2 \\tau}} \\sin{\\left (\\frac{\\sqrt{3} t}{2 \\tau} \\right )}$$"
      ],
      "text/plain": [
       "        -t           \n",
       "        ───          \n",
       "        2⋅τ    ⎛√3⋅t⎞\n",
       "2⋅√3⋅K⋅ℯ   ⋅sin⎜────⎟\n",
       "               ⎝2⋅τ ⎠\n",
       "─────────────────────\n",
       "         3⋅τ         "
      ]
     },
     "execution_count": 12,
     "metadata": {},
     "output_type": "execute_result"
    }
   ],
   "source": [
    "r = invL(G.subs({zeta: sympy.Rational(1, 2)}))\n",
    "r"
   ]
  },
  {
   "cell_type": "code",
   "execution_count": 13,
   "metadata": {},
   "outputs": [],
   "source": [
    "from ipywidgets import interact"
   ]
  },
  {
   "cell_type": "code",
   "execution_count": 14,
   "metadata": {},
   "outputs": [],
   "source": [
    "def secondorder(K_in, tau_in, zeta_in, tmax):\n",
    "    values = {K: sympy.nsimplify(K_in), tau: sympy.nsimplify(tau_in), zeta: sympy.nsimplify(zeta_in)}\n",
    "    stepresponse = sympy.re(invL(G.subs(values)/s))\n",
    "\n",
    "    sympy.plot(stepresponse, (t, 0, tmax), ylim = [0, 10])"
   ]
  },
  {
   "cell_type": "code",
   "execution_count": 15,
   "metadata": {},
   "outputs": [
    {
     "data": {
      "application/vnd.jupyter.widget-view+json": {
       "model_id": "5c53c63132b348128d7188d64ae498cc",
       "version_major": 2,
       "version_minor": 0
      },
      "text/plain": [
       "interactive(children=(FloatSlider(value=5.0, description='K_in', max=10.0), FloatSlider(value=5.0, description…"
      ]
     },
     "metadata": {},
     "output_type": "display_data"
    }
   ],
   "source": [
    "interact(secondorder, K_in=(0, 10.), tau_in=(0., 10.), zeta_in=(0., 2), tmax=(30., 100));"
   ]
  },
  {
   "cell_type": "code",
   "execution_count": null,
   "metadata": {},
   "outputs": [],
   "source": []
  },
  {
   "cell_type": "code",
   "execution_count": null,
   "metadata": {},
   "outputs": [],
   "source": []
  }
 ],
 "metadata": {
  "anaconda-cloud": {},
  "kernelspec": {
   "display_name": "Python 3 (ipykernel)",
   "language": "python",
   "name": "python3"
  },
  "language_info": {
   "codemirror_mode": {
    "name": "ipython",
    "version": 3
   },
   "file_extension": ".py",
   "mimetype": "text/x-python",
   "name": "python",
   "nbconvert_exporter": "python",
   "pygments_lexer": "ipython3",
   "version": "3.8.12"
  }
 },
 "nbformat": 4,
 "nbformat_minor": 4
}
