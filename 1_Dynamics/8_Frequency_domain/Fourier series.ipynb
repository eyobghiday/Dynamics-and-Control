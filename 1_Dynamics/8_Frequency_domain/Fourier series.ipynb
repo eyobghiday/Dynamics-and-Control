{
 "cells": [
  {
   "cell_type": "code",
   "execution_count": 1,
   "metadata": {
    "collapsed": true,
    "jupyter": {
     "outputs_hidden": true
    }
   },
   "outputs": [],
   "source": [
    "import sympy\n",
    "sympy.init_printing()\n",
    "%matplotlib inline"
   ]
  },
  {
   "cell_type": "markdown",
   "metadata": {},
   "source": [
    "Fourier series\n",
    "=========\n",
    "\n",
    "We can approximate a periodic function of period P to arbitrary accuracy by adding sine and cosine terms (disguised via the Euler formula in the complex exponential): \n",
    "\n",
    "$$ S_N(t) = \\sum_{n=-N}^N c_n \\exp \\left( \\frac{i 2\\pi n t}{P}\\right) $$ \n",
    "\n",
    "with \n",
    "\n",
    "$$ c_n = \\frac{1}{P} \\int_{t_0}^{t_0 + P} f(t) \\exp \\left( \\frac{-i 2\\pi n t}{P}\\right) \\mathrm{d}t $$"
   ]
  },
  {
   "cell_type": "markdown",
   "metadata": {},
   "source": [
    "Compare this last equation to the Fourier transform and the Laplace transform:\n",
    "\n",
    "$$\\mathcal{F\\{f\\}}=\\int_{-\\infty}^{\\infty}f(t)\\exp(-i\\omega t) \\mathrm{d}t \\quad \\mathcal{L\\{f\\}}=\\int_{0}^{\\infty}f(t)\\exp(-s t) \\mathrm{d}t$$"
   ]
  },
  {
   "cell_type": "markdown",
   "metadata": {},
   "source": [
    "The following two functions attempt to match the notation above as closely as possible using sympy functions"
   ]
  },
  {
   "cell_type": "code",
   "execution_count": 1,
   "metadata": {
    "tags": []
   },
   "outputs": [],
   "source": [
    "import sympy"
   ]
  },
  {
   "cell_type": "code",
   "execution_count": 2,
   "metadata": {
    "tags": []
   },
   "outputs": [],
   "source": [
    "i2pi = sympy.I*2*sympy.pi\n",
    "exp = sympy.exp"
   ]
  },
  {
   "cell_type": "code",
   "execution_count": 3,
   "metadata": {
    "tags": []
   },
   "outputs": [],
   "source": [
    "def S(N):\n",
    "    return sum(c(n)*exp(i2pi*n*t/P) for n in range(-N, N+1)).expand(complex=True).simplify()"
   ]
  },
  {
   "cell_type": "code",
   "execution_count": 4,
   "metadata": {
    "tags": []
   },
   "outputs": [],
   "source": [
    "def c(n):\n",
    "    return (sympy.integrate(\n",
    "               f(t)*exp((-i2pi * n * t)/P), \n",
    "               (t, t0, t0 + P))/P)"
   ]
  },
  {
   "cell_type": "markdown",
   "metadata": {},
   "source": [
    "These functions work quite well for a periodic sawtooth function:"
   ]
  },
  {
   "cell_type": "code",
   "execution_count": 5,
   "metadata": {
    "tags": []
   },
   "outputs": [],
   "source": [
    "a = sympy.Symbol('a', positive=True)"
   ]
  },
  {
   "cell_type": "code",
   "execution_count": 6,
   "metadata": {
    "tags": []
   },
   "outputs": [],
   "source": [
    "def f(t):\n",
    "    return t"
   ]
  },
  {
   "cell_type": "code",
   "execution_count": 7,
   "metadata": {
    "tags": []
   },
   "outputs": [],
   "source": [
    "P = 20\n",
    "t0 = -10"
   ]
  },
  {
   "cell_type": "code",
   "execution_count": 8,
   "metadata": {
    "tags": []
   },
   "outputs": [],
   "source": [
    "t = sympy.Symbol('t', real=True)"
   ]
  },
  {
   "cell_type": "code",
   "execution_count": 9,
   "metadata": {
    "tags": []
   },
   "outputs": [],
   "source": [
    "N = 6"
   ]
  },
  {
   "cell_type": "code",
   "execution_count": 10,
   "metadata": {},
   "outputs": [
    {
     "data": {
      "text/latex": [
       "$\\displaystyle \\frac{20 \\sin{\\left(\\frac{\\pi t}{10} \\right)}}{\\pi} - \\frac{10 \\sin{\\left(\\frac{\\pi t}{5} \\right)}}{\\pi} + \\frac{20 \\sin{\\left(\\frac{3 \\pi t}{10} \\right)}}{3 \\pi} - \\frac{5 \\sin{\\left(\\frac{2 \\pi t}{5} \\right)}}{\\pi} + \\frac{4 \\sin{\\left(\\frac{\\pi t}{2} \\right)}}{\\pi} - \\frac{10 \\sin{\\left(\\frac{3 \\pi t}{5} \\right)}}{3 \\pi}$"
      ],
      "text/plain": [
       "20*sin(pi*t/10)/pi - 10*sin(pi*t/5)/pi + 20*sin(3*pi*t/10)/(3*pi) - 5*sin(2*pi*t/5)/pi + 4*sin(pi*t/2)/pi - 10*sin(3*pi*t/5)/(3*pi)"
      ]
     },
     "execution_count": 10,
     "metadata": {},
     "output_type": "execute_result"
    }
   ],
   "source": [
    "analytic_approx = S(N).expand()\n",
    "analytic_approx"
   ]
  },
  {
   "cell_type": "markdown",
   "metadata": {},
   "source": [
    "Notice that the function we defined was just $y=t$, but Fourier series always approximates periodic signals. We can see the bit we approximated repeating if we plot over a larger interval"
   ]
  },
  {
   "cell_type": "code",
   "execution_count": 12,
   "metadata": {},
   "outputs": [
    {
     "data": {
      "image/png": "[encoded data removed]",
      "text/plain": [
       "<matplotlib.figure.Figure at 0x10af06198>"
      ]
     },
     "metadata": {},
     "output_type": "display_data"
    }
   ],
   "source": [
    "interval = (t, t0-P, t0+2*P)\n",
    "p1 = sympy.plot(f(t), interval, show=False)\n",
    "p2 = sympy.plot(analytic_approx, interval, show=False)\n",
    "p2[0].line_color = 'red'\n",
    "p1.extend(p2)\n",
    "p1.show()"
   ]
  },
  {
   "cell_type": "markdown",
   "metadata": {},
   "source": [
    "Unfortunately, this notationally elegant approach does not appear to work for `f = sympy.Heaviside`, and is also quite slow. The `mpmath` library supplies a numeric equivalent."
   ]
  },
  {
   "cell_type": "code",
   "execution_count": 13,
   "metadata": {
    "collapsed": true,
    "jupyter": {
     "outputs_hidden": true
    }
   },
   "outputs": [],
   "source": [
    "try:\n",
    "    import mpmath\n",
    "except ImportError:\n",
    "    from sympy import mpmath"
   ]
  },
  {
   "cell_type": "code",
   "execution_count": 14,
   "metadata": {},
   "outputs": [
    {
     "data": {
      "image/png": "[encoded data removed]",
      "text/plain": [
       "<matplotlib.figure.Figure at 0x106548a90>"
      ]
     },
     "metadata": {},
     "output_type": "display_data"
    }
   ],
   "source": [
    "cs = mpmath.fourier(f, [t0, t0+P], N)\n",
    "\n",
    "def numeric_approx(t):\n",
    "    return mpmath.fourierval(cs, [t0, t0+P], t)\n",
    "\n",
    "mpmath.plot([f, numeric_approx], [t0, t0+P])"
   ]
  },
  {
   "cell_type": "markdown",
   "metadata": {},
   "source": [
    "The coefficients returned by the `mpmath.fourier` functions are for the cosine and sine terms in this alternate representation of $S_N$\n",
    "\n",
    "$$s_N(t) = \\sum_{n=0}^N \\left(a_n \\cos\\left(\\frac{2\\pi nt}{P}\\right) + b_n \\sin\\left(\\frac{2\\pi nt}{P}\\right)\\right)$$\n",
    "\n"
   ]
  },
  {
   "cell_type": "markdown",
   "metadata": {},
   "source": [
    "We can see the similarity clearly by showing the expression we obtained before multiplied out and numerically evaluated"
   ]
  },
  {
   "cell_type": "code",
   "execution_count": 15,
   "metadata": {},
   "outputs": [
    {
     "data": {
      "image/png": "[encoded data removed]",
      "text/latex": [
       "$$6.36619772367581 \\sin{\\left (\\frac{\\pi t}{10} \\right )} - 3.18309886183791 \\sin{\\left (\\frac{\\pi t}{5} \\right )} + 2.12206590789194 \\sin{\\left (\\frac{3 \\pi}{10} t \\right )} - 1.59154943091895 \\sin{\\left (\\frac{2 \\pi}{5} t \\right )} + 1.27323954473516 \\sin{\\left (\\frac{\\pi t}{2} \\right )} - 1.06103295394597 \\sin{\\left (\\frac{3 \\pi}{5} t \\right )}$$"
      ],
      "text/plain": [
       "                    ⎛π⋅t⎞                       ⎛π⋅t⎞                       ⎛3\n",
       "6.36619772367581⋅sin⎜───⎟ - 3.18309886183791⋅sin⎜───⎟ + 2.12206590789194⋅sin⎜─\n",
       "                    ⎝ 10⎠                       ⎝ 5 ⎠                       ⎝ \n",
       "\n",
       "⋅π⋅t⎞                       ⎛2⋅π⋅t⎞                       ⎛π⋅t⎞               \n",
       "────⎟ - 1.59154943091895⋅sin⎜─────⎟ + 1.27323954473516⋅sin⎜───⎟ - 1.0610329539\n",
       " 10 ⎠                       ⎝  5  ⎠                       ⎝ 2 ⎠               \n",
       "\n",
       "        ⎛3⋅π⋅t⎞\n",
       "4597⋅sin⎜─────⎟\n",
       "        ⎝  5  ⎠"
      ]
     },
     "execution_count": 15,
     "metadata": {},
     "output_type": "execute_result"
    }
   ],
   "source": [
    "sympy.N(analytic_approx)"
   ]
  },
  {
   "cell_type": "code",
   "execution_count": 16,
   "metadata": {},
   "outputs": [
    {
     "data": {
      "text/plain": [
       "([mpf('0.0'),\n",
       "  mpf('0.0'),\n",
       "  mpf('0.0'),\n",
       "  mpf('0.0'),\n",
       "  mpf('0.0'),\n",
       "  mpf('0.0'),\n",
       "  mpf('0.0')],\n",
       " [mpf('0.0'),\n",
       "  mpf('6.366197723675814'),\n",
       "  mpf('-3.183098861837907'),\n",
       "  mpf('2.1220659078919377'),\n",
       "  mpf('-1.5915494309189535'),\n",
       "  mpf('1.2732395447351628'),\n",
       "  mpf('-1.0610329539459689')])"
      ]
     },
     "execution_count": 16,
     "metadata": {},
     "output_type": "execute_result"
    }
   ],
   "source": [
    "cs"
   ]
  },
  {
   "cell_type": "markdown",
   "metadata": {},
   "source": [
    "Notice that all the cosine coefficients are zero. This is true in general for odd functions."
   ]
  },
  {
   "cell_type": "markdown",
   "metadata": {},
   "source": [
    "Step function\n",
    "------------\n",
    "Let's now switch to the Heaviside step and draw the various sinusoids in the approximation more explicitly."
   ]
  },
  {
   "cell_type": "code",
   "execution_count": 17,
   "metadata": {
    "collapsed": true,
    "jupyter": {
     "outputs_hidden": true
    }
   },
   "outputs": [],
   "source": [
    "import matplotlib.pyplot as plt\n",
    "import numpy\n",
    "%matplotlib inline"
   ]
  },
  {
   "cell_type": "code",
   "execution_count": 18,
   "metadata": {
    "collapsed": true,
    "jupyter": {
     "outputs_hidden": true
    }
   },
   "outputs": [],
   "source": [
    "N = 20"
   ]
  },
  {
   "cell_type": "code",
   "execution_count": 19,
   "metadata": {
    "collapsed": true,
    "jupyter": {
     "outputs_hidden": true
    }
   },
   "outputs": [],
   "source": [
    "@numpy.vectorize\n",
    "def f(t):\n",
    "    if t < 0:\n",
    "        return 0\n",
    "    else:\n",
    "        return 1"
   ]
  },
  {
   "cell_type": "code",
   "execution_count": 20,
   "metadata": {},
   "outputs": [
    {
     "data": {
      "text/plain": [
       "([mpf('0.5'),\n",
       "  mpf('0.0'),\n",
       "  mpf('0.0'),\n",
       "  mpf('0.0'),\n",
       "  mpf('0.0'),\n",
       "  mpf('0.0'),\n",
       "  mpf('0.0'),\n",
       "  mpf('0.0'),\n",
       "  mpf('0.0'),\n",
       "  mpf('0.0'),\n",
       "  mpf('0.0'),\n",
       "  mpf('0.0'),\n",
       "  mpf('0.0'),\n",
       "  mpf('0.0'),\n",
       "  mpf('0.0'),\n",
       "  mpf('0.0'),\n",
       "  mpf('0.0'),\n",
       "  mpf('0.0'),\n",
       "  mpf('0.0'),\n",
       "  mpf('0.0'),\n",
       "  mpf('0.0')],\n",
       " [mpf('0.0'),\n",
       "  mpf('0.63675856242795037'),\n",
       "  mpf('0.0002778345608862911'),\n",
       "  mpf('0.21262398013873579'),\n",
       "  mpf('0.00055771310594110598'),\n",
       "  mpf('0.12802302327076248'),\n",
       "  mpf('0.00084172518315335683'),\n",
       "  mpf('0.091931640154520794'),\n",
       "  mpf('0.0011320535572161288'),\n",
       "  mpf('0.072015836887865267'),\n",
       "  mpf('0.0014310262052054015'),\n",
       "  mpf('0.059459060405769593'),\n",
       "  mpf('0.0017411752581774926'),\n",
       "  mpf('0.050872056499090879'),\n",
       "  mpf('0.0020653060695558258'),\n",
       "  mpf('0.044674904291434447'),\n",
       "  mpf('0.0024065804723679999'),\n",
       "  mpf('0.040032978763113902'),\n",
       "  mpf('0.002768619592788056'),\n",
       "  mpf('0.036465018126357898'),\n",
       "  mpf('0.0031556335077388429')])"
      ]
     },
     "execution_count": 20,
     "metadata": {},
     "output_type": "execute_result"
    }
   ],
   "source": [
    "cs = mpmath.fourier(f, [t0, t0+P], N)\n",
    "cs"
   ]
  },
  {
   "cell_type": "markdown",
   "metadata": {},
   "source": [
    "We see that all the cosine terms but the first are zero, so the first cosine coefficient represents a constant being added to the sine series."
   ]
  },
  {
   "cell_type": "code",
   "execution_count": 21,
   "metadata": {
    "collapsed": true,
    "jupyter": {
     "outputs_hidden": true
    }
   },
   "outputs": [],
   "source": [
    "constant = cs[0][0]\n",
    "sinecoefficients = cs[1]"
   ]
  },
  {
   "cell_type": "markdown",
   "metadata": {},
   "source": [
    "I'm constructing two dimensional arrays here which will allow my formulae to work nicely when broadcasting. I'll use the convention that the time dimension is in the columns and each sine response is in the rows."
   ]
  },
  {
   "cell_type": "code",
   "execution_count": 22,
   "metadata": {
    "collapsed": true,
    "jupyter": {
     "outputs_hidden": true
    }
   },
   "outputs": [],
   "source": [
    "tt = numpy.linspace(t0, t0 + P, 1000)\n",
    "t2d = tt[numpy.newaxis]  # two dimensional time array, time in the columns"
   ]
  },
  {
   "cell_type": "code",
   "execution_count": 23,
   "metadata": {
    "collapsed": true,
    "jupyter": {
     "outputs_hidden": true
    }
   },
   "outputs": [],
   "source": [
    "# two dimensional arrays for the sine coefficients and n - they vary in the rows\n",
    "an = numpy.array(sinecoefficients)[:, numpy.newaxis]\n",
    "n = numpy.arange(N+1)[:, numpy.newaxis]"
   ]
  },
  {
   "cell_type": "markdown",
   "metadata": {},
   "source": [
    "This way I can build a whole array of sine responses automatically. "
   ]
  },
  {
   "cell_type": "code",
   "execution_count": 24,
   "metadata": {
    "collapsed": true,
    "jupyter": {
     "outputs_hidden": true
    }
   },
   "outputs": [],
   "source": [
    "sines = an*numpy.sin(2*numpy.pi*n*t2d/P)"
   ]
  },
  {
   "cell_type": "code",
   "execution_count": 25,
   "metadata": {},
   "outputs": [
    {
     "data": {
      "text/plain": [
       "[<matplotlib.lines.Line2D at 0x112f5ccf8>]"
      ]
     },
     "execution_count": 25,
     "metadata": {},
     "output_type": "execute_result"
    },
    {
     "data": {
      "image/png": "[encoded data removed]",
      "text/plain": [
       "<matplotlib.figure.Figure at 0x1129739b0>"
      ]
     },
     "metadata": {},
     "output_type": "display_data"
    }
   ],
   "source": [
    "plt.plot(tt, f(tt))\n",
    "plt.plot(tt, sines.T, color='blue', alpha=0.7)\n",
    "plt.axhline(constant, color='blue', alpha=0.7)\n",
    "plt.plot(tt, sum(sines) + constant)"
   ]
  },
  {
   "cell_type": "markdown",
   "metadata": {},
   "source": [
    "We can see that the sum of the sines approximates the step function."
   ]
  },
  {
   "cell_type": "markdown",
   "metadata": {},
   "source": [
    "## Step response via Frequency response\n",
    "\n",
    "Let's compare the result of a \"traditional\" calculation of a step response of a second order system to a new way which uses the frequency response of the transfer function and the Fourier series of the step input."
   ]
  },
  {
   "cell_type": "markdown",
   "metadata": {},
   "source": [
    "First I am going to find the solution using purely analytic methods."
   ]
  },
  {
   "cell_type": "code",
   "execution_count": 26,
   "metadata": {
    "collapsed": true,
    "jupyter": {
     "outputs_hidden": true
    }
   },
   "outputs": [],
   "source": [
    "s = sympy.Symbol('s')"
   ]
  },
  {
   "cell_type": "code",
   "execution_count": 27,
   "metadata": {
    "collapsed": true,
    "jupyter": {
     "outputs_hidden": true
    }
   },
   "outputs": [],
   "source": [
    "tau = 1\n",
    "zeta = sympy.Rational(1, 2)"
   ]
  },
  {
   "cell_type": "markdown",
   "metadata": {},
   "source": [
    "We redifine $t$ here to be positive, which will allow us a simple evalutation of the inverse laplace later."
   ]
  },
  {
   "cell_type": "code",
   "execution_count": 28,
   "metadata": {
    "collapsed": true,
    "jupyter": {
     "outputs_hidden": true
    }
   },
   "outputs": [],
   "source": [
    "t = sympy.Symbol('t', positive=True)"
   ]
  },
  {
   "cell_type": "code",
   "execution_count": 29,
   "metadata": {
    "collapsed": true,
    "jupyter": {
     "outputs_hidden": true
    }
   },
   "outputs": [],
   "source": [
    "G = 1/(tau**2*s**2 + 2*tau*zeta*s + 1)\n",
    "g = sympy.inverse_laplace_transform(G/s, s, t)"
   ]
  },
  {
   "cell_type": "markdown",
   "metadata": {},
   "source": [
    "Here I build a function which can evaluate the response response numerically. I use the extra argument to make the function able to work with numpy arrays"
   ]
  },
  {
   "cell_type": "code",
   "execution_count": 30,
   "metadata": {},
   "outputs": [],
   "source": [
    "geval = sympy.lambdify(t, sympy.N(g.simplify()), 'numpy')"
   ]
  },
  {
   "cell_type": "code",
   "execution_count": 31,
   "metadata": {},
   "outputs": [],
   "source": [
    "gtvalues = geval(tt)\n",
    "gtvalues[tt<0] = 0"
   ]
  },
  {
   "cell_type": "markdown",
   "metadata": {},
   "source": [
    "We can see the familiar second order step response:"
   ]
  },
  {
   "cell_type": "code",
   "execution_count": 32,
   "metadata": {},
   "outputs": [
    {
     "data": {
      "text/plain": [
       "[<matplotlib.lines.Line2D at 0x1130fd160>]"
      ]
     },
     "execution_count": 32,
     "metadata": {},
     "output_type": "execute_result"
    },
    {
     "data": {
      "image/png": "[encoded data removed]",
      "text/plain": [
       "<matplotlib.figure.Figure at 0x112993898>"
      ]
     },
     "metadata": {},
     "output_type": "display_data"
    }
   ],
   "source": [
    "plt.plot(tt, gtvalues)"
   ]
  },
  {
   "cell_type": "markdown",
   "metadata": {},
   "source": [
    "Now, let's try to get the same answer by exploiting the frequency response of the transfer function. First, we need a function which can evaluate the transfer function at particular values and return a numeric result. As before I use `lambdify` and the extra argument to make the function able to work with numpy arrays"
   ]
  },
  {
   "cell_type": "code",
   "execution_count": 33,
   "metadata": {
    "collapsed": true,
    "jupyter": {
     "outputs_hidden": true
    }
   },
   "outputs": [],
   "source": [
    "Geval = sympy.lambdify(s, G, 'numpy')"
   ]
  },
  {
   "cell_type": "markdown",
   "metadata": {},
   "source": [
    "Now, we need to build an array for the frequencies of the Fourier series. Remember we had terms of the form $\\sin\\left(\\frac{2\\pi n t}{P}\\right) = \\sin(\\omega t)$ in the Fourier series."
   ]
  },
  {
   "cell_type": "code",
   "execution_count": 34,
   "metadata": {
    "collapsed": true,
    "jupyter": {
     "outputs_hidden": true
    }
   },
   "outputs": [],
   "source": [
    "omega = 2*n*numpy.pi/P"
   ]
  },
  {
   "cell_type": "markdown",
   "metadata": {},
   "source": [
    "We evaluate the frequency response of the transfer function at the Fourier frequencies by using the substitution $s=\\omega i$. The complex number is `j` in Python."
   ]
  },
  {
   "cell_type": "code",
   "execution_count": 35,
   "metadata": {
    "collapsed": true,
    "jupyter": {
     "outputs_hidden": true
    }
   },
   "outputs": [],
   "source": [
    "freqresp = Geval(omega*1j)"
   ]
  },
  {
   "cell_type": "code",
   "execution_count": 36,
   "metadata": {
    "collapsed": true,
    "jupyter": {
     "outputs_hidden": true
    }
   },
   "outputs": [],
   "source": [
    "K = gain = numpy.abs(freqresp)"
   ]
  },
  {
   "cell_type": "code",
   "execution_count": 37,
   "metadata": {
    "collapsed": true,
    "jupyter": {
     "outputs_hidden": true
    }
   },
   "outputs": [],
   "source": [
    "phi = phase = numpy.angle(freqresp)"
   ]
  },
  {
   "cell_type": "markdown",
   "metadata": {},
   "source": [
    "Now, we build the approximation of the respone by simply multiplying by the gain $K$ and shifting by the phase $\\phi$:\n",
    "\n",
    "$$ r(t) = K a_n \\sin(2 \\pi n t / P + \\phi) $$"
   ]
  },
  {
   "cell_type": "code",
   "execution_count": 38,
   "metadata": {
    "collapsed": true,
    "jupyter": {
     "outputs_hidden": true
    }
   },
   "outputs": [],
   "source": [
    "shiftedsines = K*an*numpy.sin(2*numpy.pi*n*t2d/P + phi)"
   ]
  },
  {
   "cell_type": "code",
   "execution_count": 39,
   "metadata": {},
   "outputs": [
    {
     "data": {
      "image/png": "[encoded data removed]",
      "text/latex": [
       "$$\\left ( 0, \\quad 10\\right )$$"
      ],
      "text/plain": [
       "(0, 10)"
      ]
     },
     "execution_count": 39,
     "metadata": {},
     "output_type": "execute_result"
    },
    {
     "data": {
      "image/png": "[encoded data removed]",
      "text/plain": [
       "<matplotlib.figure.Figure at 0x11313b2e8>"
      ]
     },
     "metadata": {},
     "output_type": "display_data"
    }
   ],
   "source": [
    "plt.plot(tt, gtvalues)\n",
    "plt.plot(tt, sines.T, color='blue', alpha=0.7)\n",
    "plt.plot(tt, shiftedsines.T, color='green', alpha=0.7)\n",
    "plt.plot(tt, sum(shiftedsines) + constant, color='green')\n",
    "plt.xlim(0, t0 + P)"
   ]
  },
  {
   "cell_type": "code",
   "execution_count": null,
   "metadata": {
    "collapsed": true,
    "jupyter": {
     "outputs_hidden": true
    }
   },
   "outputs": [],
   "source": []
  }
 ],
 "metadata": {
  "anaconda-cloud": {},
  "kernelspec": {
   "display_name": "Python 3 (ipykernel)",
   "language": "python",
   "name": "python3"
  },
  "language_info": {
   "codemirror_mode": {
    "name": "ipython",
    "version": 3
   },
   "file_extension": ".py",
   "mimetype": "text/x-python",
   "name": "python",
   "nbconvert_exporter": "python",
   "pygments_lexer": "ipython3",
   "version": "3.8.12"
  }
 },
 "nbformat": 4,
 "nbformat_minor": 4
}
